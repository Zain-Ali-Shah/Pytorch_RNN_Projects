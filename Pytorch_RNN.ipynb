{
  "nbformat": 4,
  "nbformat_minor": 0,
  "metadata": {
    "colab": {
      "provenance": []
    },
    "kernelspec": {
      "name": "python3",
      "display_name": "Python 3"
    },
    "language_info": {
      "name": "python"
    }
  },
  "cells": [
    {
      "cell_type": "code",
      "execution_count": null,
      "metadata": {
        "id": "GbGefMzyt0zW"
      },
      "outputs": [],
      "source": [
        "import torch\n",
        "import torch.nn as nn\n",
        "import numpy as np"
      ]
    },
    {
      "cell_type": "code",
      "source": [
        "input_size  =  9\n",
        "hidden_size = 16\n",
        "num_layers  =  1\n",
        "actfun      = 'tanh'\n",
        "bias        = True\n",
        "\n",
        "rnn = nn.RNN(input_size,hidden_size,num_layers,nonlinearity=actfun,bias=bias)\n",
        "print(rnn)"
      ],
      "metadata": {
        "colab": {
          "base_uri": "https://localhost:8080/"
        },
        "id": "p_xjqiKNt-DN",
        "outputId": "6005c7b2-bd27-448d-826f-96d98c30e924"
      },
      "execution_count": null,
      "outputs": [
        {
          "output_type": "stream",
          "name": "stdout",
          "text": [
            "RNN(9, 16)\n"
          ]
        }
      ]
    },
    {
      "cell_type": "code",
      "source": [
        "seqlength = 5\n",
        "batchsize = 2\n",
        "\n",
        "X = torch.rand(seqlength,batchsize,input_size)\n",
        "\n",
        "hidden = torch.zeros(num_layers,batchsize,hidden_size)\n",
        "\n",
        "y,h = rnn(X,hidden)\n",
        "print(f' Input shape: {list(X.shape)}')\n",
        "print(f'Hidden shape: {list(h.shape)}')\n",
        "print(f'Output shape: {list(y.shape)}')"
      ],
      "metadata": {
        "colab": {
          "base_uri": "https://localhost:8080/"
        },
        "id": "Mk82SSwouLEl",
        "outputId": "1f9f07f1-1e2a-4558-d6c6-cc9b5362506d"
      },
      "execution_count": null,
      "outputs": [
        {
          "output_type": "stream",
          "name": "stdout",
          "text": [
            " Input shape: [5, 2, 9]\n",
            "Hidden shape: [1, 2, 16]\n",
            "Output shape: [5, 2, 16]\n"
          ]
        }
      ]
    },
    {
      "cell_type": "code",
      "source": [
        "y,h1 = rnn(X,hidden)\n",
        "print(h1), print('\\n\\n')\n",
        "\n",
        "y,h2 = rnn(X)\n",
        "print(h2), print('\\n\\n')\n",
        "\n",
        "print(h1-h2)"
      ],
      "metadata": {
        "colab": {
          "base_uri": "https://localhost:8080/"
        },
        "id": "-qv-t-gbuaGg",
        "outputId": "97d3fed3-f2ce-42d9-d351-66fc95dd77c5"
      },
      "execution_count": null,
      "outputs": [
        {
          "output_type": "stream",
          "name": "stdout",
          "text": [
            "tensor([[[ 0.1584, -0.0441,  0.0777,  0.5310,  0.2887, -0.0971,  0.3872,\n",
            "          -0.6887, -0.5726, -0.2087, -0.3755, -0.2254, -0.2023, -0.6014,\n",
            "           0.1702, -0.1733],\n",
            "         [ 0.3551, -0.3533,  0.2359,  0.5652,  0.3833, -0.0084,  0.3274,\n",
            "          -0.6864, -0.3683, -0.1570, -0.4752, -0.6122, -0.2165, -0.4626,\n",
            "           0.1371,  0.1906]]], grad_fn=<StackBackward0>)\n",
            "\n",
            "\n",
            "\n",
            "tensor([[[ 0.1584, -0.0441,  0.0777,  0.5310,  0.2887, -0.0971,  0.3872,\n",
            "          -0.6887, -0.5726, -0.2087, -0.3755, -0.2254, -0.2023, -0.6014,\n",
            "           0.1702, -0.1733],\n",
            "         [ 0.3551, -0.3533,  0.2359,  0.5652,  0.3833, -0.0084,  0.3274,\n",
            "          -0.6864, -0.3683, -0.1570, -0.4752, -0.6122, -0.2165, -0.4626,\n",
            "           0.1371,  0.1906]]], grad_fn=<StackBackward0>)\n",
            "\n",
            "\n",
            "\n",
            "tensor([[[0., 0., 0., 0., 0., 0., 0., 0., 0., 0., 0., 0., 0., 0., 0., 0.],\n",
            "         [0., 0., 0., 0., 0., 0., 0., 0., 0., 0., 0., 0., 0., 0., 0., 0.]]],\n",
            "       grad_fn=<SubBackward0>)\n"
          ]
        }
      ]
    },
    {
      "cell_type": "code",
      "source": [
        "for p in rnn.named_parameters():\n",
        "  if 'weight' in p[0]:\n",
        "    print(f'{p[0]} has size {list(p[1].shape)}')"
      ],
      "metadata": {
        "colab": {
          "base_uri": "https://localhost:8080/"
        },
        "id": "dlznBjjdux35",
        "outputId": "e712b33c-4221-48b0-9baf-703101494d0d"
      },
      "execution_count": null,
      "outputs": [
        {
          "output_type": "stream",
          "name": "stdout",
          "text": [
            "weight_ih_l0 has size [16, 9]\n",
            "weight_hh_l0 has size [16, 16]\n"
          ]
        }
      ]
    },
    {
      "cell_type": "code",
      "source": [
        "class RNNnet(nn.Module):\n",
        "  def __init__(self,input_size,num_hidden,num_layers):\n",
        "    super().__init__()\n",
        "\n",
        "    self.input_size = input_size\n",
        "    self.num_hidden = num_hidden\n",
        "    self.num_layers = num_layers\n",
        "\n",
        "    self.rnn = nn.RNN(input_size,num_hidden,num_layers)\n",
        "\n",
        "    self.out = nn.Linear(num_hidden,1)\n",
        "\n",
        "  def forward(self,x):\n",
        "\n",
        "    print(f'Input: {list(x.shape)}')\n",
        "\n",
        "    hidden = torch.zeros(self.num_layers,batchsize,self.num_hidden)\n",
        "    print(f'Hidden: {list(hidden.shape)}')\n",
        "\n",
        "    y,hidden = self.rnn(x,hidden)\n",
        "    print(f'RNN-out: {list(y.shape)}')\n",
        "    print(f'RNN-hidden: {list(hidden.shape)}')\n",
        "\n",
        "    o = self.out(y)\n",
        "    print(f'Output: {list(o.shape)}')\n",
        "\n",
        "    return o,hidden"
      ],
      "metadata": {
        "id": "WiQWJOoevChG"
      },
      "execution_count": null,
      "outputs": []
    },
    {
      "cell_type": "code",
      "source": [
        "net = RNNnet(input_size,hidden_size,num_layers)\n",
        "print(net), print(' ')\n",
        "\n",
        "for p in net.named_parameters():\n",
        "  print(f'{p[0]} has size {list(p[1].shape)}')"
      ],
      "metadata": {
        "colab": {
          "base_uri": "https://localhost:8080/"
        },
        "id": "kBToqwmLI0Vf",
        "outputId": "a5ea992a-c024-4e0e-f4f3-5c2229de0ffe"
      },
      "execution_count": null,
      "outputs": [
        {
          "output_type": "stream",
          "name": "stdout",
          "text": [
            "RNNnet(\n",
            "  (rnn): RNN(9, 16)\n",
            "  (out): Linear(in_features=16, out_features=1, bias=True)\n",
            ")\n",
            " \n",
            "rnn.weight_ih_l0 has size [16, 9]\n",
            "rnn.weight_hh_l0 has size [16, 16]\n",
            "rnn.bias_ih_l0 has size [16]\n",
            "rnn.bias_hh_l0 has size [16]\n",
            "out.weight has size [1, 16]\n",
            "out.bias has size [1]\n"
          ]
        }
      ]
    },
    {
      "cell_type": "code",
      "source": [
        "X = torch.rand(seqlength,batchsize,input_size)\n",
        "y = torch.rand(seqlength,batchsize,1)\n",
        "yHat,h = net(X)\n",
        "\n",
        "lossfun = nn.MSELoss()\n",
        "lossfun(yHat,y)"
      ],
      "metadata": {
        "colab": {
          "base_uri": "https://localhost:8080/"
        },
        "id": "j0eABcuPJ-8C",
        "outputId": "926a77e3-75f8-4d8d-eb69-2bffa5108f40"
      },
      "execution_count": null,
      "outputs": [
        {
          "output_type": "stream",
          "name": "stdout",
          "text": [
            "Input: [5, 2, 9]\n",
            "Hidden: [1, 2, 16]\n",
            "RNN-out: [5, 2, 16]\n",
            "RNN-hidden: [1, 2, 16]\n",
            "Output: [5, 2, 1]\n"
          ]
        },
        {
          "output_type": "execute_result",
          "data": {
            "text/plain": [
              "tensor(0.7782, grad_fn=<MseLossBackward0>)"
            ]
          },
          "metadata": {},
          "execution_count": 9
        }
      ]
    },
    {
      "cell_type": "code",
      "source": [],
      "metadata": {
        "id": "1IyEhI0BKp4G"
      },
      "execution_count": null,
      "outputs": []
    }
  ]
}